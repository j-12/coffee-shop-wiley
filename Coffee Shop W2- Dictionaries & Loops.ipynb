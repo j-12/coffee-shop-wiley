{
 "cells": [
  {
   "cell_type": "markdown",
   "id": "137972dd",
   "metadata": {},
   "source": [
    "Juhi Shah, 13 Apr, 2023"
   ]
  },
  {
   "cell_type": "code",
   "execution_count": 12,
   "id": "bbb8a620",
   "metadata": {},
   "outputs": [],
   "source": [
    "coffee_size = {'small' : 2, 'medium' : 3, 'large' : 4}\n",
    "coffee_type = {'espresso' : 0.5 , 'coldbrew' : 1}\n",
    "baked_goods = {'bagel': 1.5, 'croissant': 2, 'muffin':1.5}\n",
    "\n",
    "qty = {'small' : 0, 'medium' : 0, 'large' : 0, 'espresso' : 0, 'coldbrew' : 0, 'flavour' : 0, 'bagel':0, 'croissant':0, 'muffin': 0}\n",
    "\n",
    "\n",
    "\n"
   ]
  },
  {
   "cell_type": "code",
   "execution_count": 13,
   "id": "4a524e8f",
   "metadata": {},
   "outputs": [
    {
     "name": "stdout",
     "output_type": "stream",
     "text": [
      "Would you like a coffee or some baked goods? Say 1 for coffee, or 2 for baked goods or 3 to stop ordering: 1\n",
      "What size of coffee would you like? You can choose small, medium or large: small\n",
      "What kind of coffee do you want, choosing between brewed, espresso or coldbrew: brewed\n",
      "What flavoring do you want, if any. Choices include none, hazelnut, vanilla or caramel: none\n",
      "Would you like a coffee or some baked goods? Say 1 for coffee, or 2 for baked goods or 3 to stop ordering: 2\n",
      "Would you liked a bagel, croissant or a muffin?: muffin\n",
      "Would you like a coffee or some baked goods? Say 1 for coffee, or 2 for baked goods or 3 to stop ordering: 1\n",
      "What size of coffee would you like? You can choose small, medium or large: medium\n",
      "What kind of coffee do you want, choosing between brewed, espresso or coldbrew: coldbrew\n",
      "What flavoring do you want, if any. Choices include none, hazelnut, vanilla or caramel: hazelnut\n",
      "Would you like a coffee or some baked goods? Say 1 for coffee, or 2 for baked goods or 3 to stop ordering: 2\n",
      "Would you liked a bagel, croissant or a muffin?: croissant\n",
      "Would you like a coffee or some baked goods? Say 1 for coffee, or 2 for baked goods or 3 to stop ordering: 3\n",
      "\n",
      "----Your order summary-----\n",
      "You asked for a small cup of brewed coffee with none flavouring.\n",
      "You asked for a medium cup of coldbrew coffee with hazelnut flavouring.\n",
      "\n",
      "You asked for a muffin.\n",
      "You asked for a croissant.\n",
      "\n",
      "-----Totals------\n",
      "Your total cost is: $ 10.0\n",
      "Including a 15% tip, that becomes: $ 11.5\n",
      "Thank you! :) \n"
     ]
    }
   ],
   "source": [
    "price = 0.0\n",
    "orders_coffee = ''\n",
    "orders_bg = ''\n",
    "while(True):\n",
    "    choice = int(input(\"Would you like a coffee or some baked goods? Say 1 for coffee, or 2 for baked goods or 3 to stop ordering: \"))\n",
    "\n",
    "    if choice == 1:\n",
    "        size = input(\"What size of coffee would you like? You can choose small, medium or large: \")\n",
    "        size = size.lower() ##To avoid ambiguity and still understand the choice\n",
    "        price += coffee_size[size]\n",
    "        \n",
    "        typeC = input(\"What kind of coffee do you want, choosing between brewed, espresso or coldbrew: \")\n",
    "        typeC = typeC.lower()\n",
    "        if typeC in coffee_type.keys():\n",
    "            price += coffee_type[typeC]\n",
    "            \n",
    "        flavour = input(\"What flavoring do you want, if any. Choices include none, hazelnut, vanilla or caramel: \")\n",
    "        flavour = flavour.lower()\n",
    "        if flavour != 'none':\n",
    "            price += 0.5\n",
    "            \n",
    "        order  = f'You asked for a {size} cup of {typeC} coffee with {flavour} flavouring.\\n'\n",
    "        orders_coffee = orders_coffee + order\n",
    "#         print(orders)\n",
    "        \n",
    "        \n",
    "    elif choice == 2:\n",
    "        options = input(\"Would you liked a bagel, croissant or a muffin?: \")\n",
    "        options = options.lower()\n",
    "        price += baked_goods[options]\n",
    "        \n",
    "        order = f'You asked for a {options}.\\n'\n",
    "        orders_bg = orders_bg + order\n",
    "        \n",
    "    elif choice == 3:\n",
    "        break\n",
    "        \n",
    "    else:\n",
    "        print(\"I didnt give you this option, please try again, 1,2 or 3\")\n",
    "\n",
    "print()\n",
    "print(\"----Your order summary-----\")\n",
    "print(orders_coffee)\n",
    "print(orders_bg)\n",
    "print(\"-----Totals------\")\n",
    "print(\"Your total cost is: $\", price)\n",
    "total_price = price + (0.15*price)\n",
    "print(\"Including a 15% tip, that becomes: $\",round(total_price,2))\n",
    "\n",
    "print(\"Thank you! :) \")\n"
   ]
  },
  {
   "cell_type": "code",
   "execution_count": null,
   "id": "e8230c6a",
   "metadata": {},
   "outputs": [],
   "source": []
  }
 ],
 "metadata": {
  "kernelspec": {
   "display_name": "Python 3",
   "language": "python",
   "name": "python3"
  },
  "language_info": {
   "codemirror_mode": {
    "name": "ipython",
    "version": 3
   },
   "file_extension": ".py",
   "mimetype": "text/x-python",
   "name": "python",
   "nbconvert_exporter": "python",
   "pygments_lexer": "ipython3",
   "version": "3.8.8"
  }
 },
 "nbformat": 4,
 "nbformat_minor": 5
}
